{
  "cells": [
    {
      "cell_type": "markdown",
      "metadata": {
        "id": "Vi1UrAPW2H5n"
      },
      "source": [
        "# Using Earth Engine Data\n",
        "\n",
        "```{contents}\n",
        ":local:\n",
        ":depth: 3\n",
        "```\n",
        "\n",
        "## Introduction\n",
        "\n",
        "## Technical requirements\n",
        "\n",
        "```bash\n",
        "conda create -n gee python\n",
        "conda activate gee\n",
        "conda install -c conda-forge mamba\n",
        "mamba install -c conda-forge pygis\n",
        "```\n",
        "\n",
        "```bash\n",
        "jupyter lab\n",
        "```"
      ],
      "id": "Vi1UrAPW2H5n"
    },
    {
      "cell_type": "code",
      "execution_count": 13,
      "metadata": {
        "id": "iIrSIIdO2H5p",
        "outputId": "da710893-fba0-40ac-dbb9-c7fedae58112",
        "colab": {
          "base_uri": "https://localhost:8080/",
          "height": 17
        }
      },
      "outputs": [
        {
          "output_type": "display_data",
          "data": {
            "text/plain": [
              "<IPython.core.display.HTML object>"
            ],
            "text/html": [
              "\n",
              "            <style>\n",
              "                .geemap-dark {\n",
              "                    --jp-widgets-color: white;\n",
              "                    --jp-widgets-label-color: white;\n",
              "                    --jp-ui-font-color1: white;\n",
              "                    --jp-layout-color2: #454545;\n",
              "                    background-color: #383838;\n",
              "                }\n",
              "\n",
              "                .geemap-dark .jupyter-button {\n",
              "                    --jp-layout-color3: #383838;\n",
              "                }\n",
              "\n",
              "                .geemap-colab {\n",
              "                    background-color: var(--colab-primary-surface-color, white);\n",
              "                }\n",
              "\n",
              "                .geemap-colab .jupyter-button {\n",
              "                    --jp-layout-color3: var(--colab-primary-surface-color, white);\n",
              "                }\n",
              "            </style>\n",
              "            "
            ]
          },
          "metadata": {}
        }
      ],
      "source": [
        "# %pip install pygis"
      ],
      "id": "iIrSIIdO2H5p"
    },
    {
      "cell_type": "code",
      "execution_count": 14,
      "metadata": {
        "id": "ebADqd2d2H5q",
        "outputId": "ebb49d8c-38ad-4788-ff4b-eb8dc79b24d7",
        "colab": {
          "base_uri": "https://localhost:8080/",
          "height": 17
        }
      },
      "outputs": [
        {
          "output_type": "display_data",
          "data": {
            "text/plain": [
              "<IPython.core.display.HTML object>"
            ],
            "text/html": [
              "\n",
              "            <style>\n",
              "                .geemap-dark {\n",
              "                    --jp-widgets-color: white;\n",
              "                    --jp-widgets-label-color: white;\n",
              "                    --jp-ui-font-color1: white;\n",
              "                    --jp-layout-color2: #454545;\n",
              "                    background-color: #383838;\n",
              "                }\n",
              "\n",
              "                .geemap-dark .jupyter-button {\n",
              "                    --jp-layout-color3: #383838;\n",
              "                }\n",
              "\n",
              "                .geemap-colab {\n",
              "                    background-color: var(--colab-primary-surface-color, white);\n",
              "                }\n",
              "\n",
              "                .geemap-colab .jupyter-button {\n",
              "                    --jp-layout-color3: var(--colab-primary-surface-color, white);\n",
              "                }\n",
              "            </style>\n",
              "            "
            ]
          },
          "metadata": {}
        }
      ],
      "source": [
        "import ee\n",
        "import geemap"
      ],
      "id": "ebADqd2d2H5q"
    },
    {
      "cell_type": "code",
      "execution_count": 18,
      "metadata": {
        "id": "c7ZwqZEW2H5q",
        "outputId": "a00328e9-1c9a-4cf6-9d17-62f96faed710",
        "colab": {
          "base_uri": "https://localhost:8080/",
          "height": 443
        }
      },
      "outputs": [
        {
          "output_type": "display_data",
          "data": {
            "text/plain": [
              "<IPython.core.display.HTML object>"
            ],
            "text/html": [
              "\n",
              "            <style>\n",
              "                .geemap-dark {\n",
              "                    --jp-widgets-color: white;\n",
              "                    --jp-widgets-label-color: white;\n",
              "                    --jp-ui-font-color1: white;\n",
              "                    --jp-layout-color2: #454545;\n",
              "                    background-color: #383838;\n",
              "                }\n",
              "\n",
              "                .geemap-dark .jupyter-button {\n",
              "                    --jp-layout-color3: #383838;\n",
              "                }\n",
              "\n",
              "                .geemap-colab {\n",
              "                    background-color: var(--colab-primary-surface-color, white);\n",
              "                }\n",
              "\n",
              "                .geemap-colab .jupyter-button {\n",
              "                    --jp-layout-color3: var(--colab-primary-surface-color, white);\n",
              "                }\n",
              "            </style>\n",
              "            "
            ]
          },
          "metadata": {}
        },
        {
          "output_type": "error",
          "ename": "EEException",
          "evalue": "Project 'projects/gzy-354100117' not found or deleted.",
          "traceback": [
            "\u001b[0;31m---------------------------------------------------------------------------\u001b[0m",
            "\u001b[0;31mHttpError\u001b[0m                                 Traceback (most recent call last)",
            "\u001b[0;32m/usr/local/lib/python3.11/dist-packages/ee/data.py\u001b[0m in \u001b[0;36m_execute_cloud_call\u001b[0;34m(call, num_retries)\u001b[0m\n\u001b[1;32m    407\u001b[0m   \u001b[0;32mtry\u001b[0m\u001b[0;34m:\u001b[0m\u001b[0;34m\u001b[0m\u001b[0;34m\u001b[0m\u001b[0m\n\u001b[0;32m--> 408\u001b[0;31m     \u001b[0;32mreturn\u001b[0m \u001b[0mcall\u001b[0m\u001b[0;34m.\u001b[0m\u001b[0mexecute\u001b[0m\u001b[0;34m(\u001b[0m\u001b[0mnum_retries\u001b[0m\u001b[0;34m=\u001b[0m\u001b[0mnum_retries\u001b[0m\u001b[0;34m)\u001b[0m\u001b[0;34m\u001b[0m\u001b[0;34m\u001b[0m\u001b[0m\n\u001b[0m\u001b[1;32m    409\u001b[0m   \u001b[0;32mexcept\u001b[0m \u001b[0mgoogleapiclient\u001b[0m\u001b[0;34m.\u001b[0m\u001b[0merrors\u001b[0m\u001b[0;34m.\u001b[0m\u001b[0mHttpError\u001b[0m \u001b[0;32mas\u001b[0m \u001b[0me\u001b[0m\u001b[0;34m:\u001b[0m\u001b[0;34m\u001b[0m\u001b[0;34m\u001b[0m\u001b[0m\n",
            "\u001b[0;32m/usr/local/lib/python3.11/dist-packages/googleapiclient/_helpers.py\u001b[0m in \u001b[0;36mpositional_wrapper\u001b[0;34m(*args, **kwargs)\u001b[0m\n\u001b[1;32m    129\u001b[0m                     \u001b[0mlogger\u001b[0m\u001b[0;34m.\u001b[0m\u001b[0mwarning\u001b[0m\u001b[0;34m(\u001b[0m\u001b[0mmessage\u001b[0m\u001b[0;34m)\u001b[0m\u001b[0;34m\u001b[0m\u001b[0;34m\u001b[0m\u001b[0m\n\u001b[0;32m--> 130\u001b[0;31m             \u001b[0;32mreturn\u001b[0m \u001b[0mwrapped\u001b[0m\u001b[0;34m(\u001b[0m\u001b[0;34m*\u001b[0m\u001b[0margs\u001b[0m\u001b[0;34m,\u001b[0m \u001b[0;34m**\u001b[0m\u001b[0mkwargs\u001b[0m\u001b[0;34m)\u001b[0m\u001b[0;34m\u001b[0m\u001b[0;34m\u001b[0m\u001b[0m\n\u001b[0m\u001b[1;32m    131\u001b[0m \u001b[0;34m\u001b[0m\u001b[0m\n",
            "\u001b[0;32m/usr/local/lib/python3.11/dist-packages/googleapiclient/http.py\u001b[0m in \u001b[0;36mexecute\u001b[0;34m(self, http, num_retries)\u001b[0m\n\u001b[1;32m    937\u001b[0m         \u001b[0;32mif\u001b[0m \u001b[0mresp\u001b[0m\u001b[0;34m.\u001b[0m\u001b[0mstatus\u001b[0m \u001b[0;34m>=\u001b[0m \u001b[0;36m300\u001b[0m\u001b[0;34m:\u001b[0m\u001b[0;34m\u001b[0m\u001b[0;34m\u001b[0m\u001b[0m\n\u001b[0;32m--> 938\u001b[0;31m             \u001b[0;32mraise\u001b[0m \u001b[0mHttpError\u001b[0m\u001b[0;34m(\u001b[0m\u001b[0mresp\u001b[0m\u001b[0;34m,\u001b[0m \u001b[0mcontent\u001b[0m\u001b[0;34m,\u001b[0m \u001b[0muri\u001b[0m\u001b[0;34m=\u001b[0m\u001b[0mself\u001b[0m\u001b[0;34m.\u001b[0m\u001b[0muri\u001b[0m\u001b[0;34m)\u001b[0m\u001b[0;34m\u001b[0m\u001b[0;34m\u001b[0m\u001b[0m\n\u001b[0m\u001b[1;32m    939\u001b[0m         \u001b[0;32mreturn\u001b[0m \u001b[0mself\u001b[0m\u001b[0;34m.\u001b[0m\u001b[0mpostproc\u001b[0m\u001b[0;34m(\u001b[0m\u001b[0mresp\u001b[0m\u001b[0;34m,\u001b[0m \u001b[0mcontent\u001b[0m\u001b[0;34m)\u001b[0m\u001b[0;34m\u001b[0m\u001b[0;34m\u001b[0m\u001b[0m\n",
            "\u001b[0;31mHttpError\u001b[0m: <HttpError 400 when requesting https://earthengine.googleapis.com/v1/projects/gzy-354100117/algorithms?prettyPrint=false&alt=json returned \"Project 'projects/gzy-354100117' not found or deleted.\". Details: \"[{'@type': 'type.googleapis.com/google.rpc.ErrorInfo', 'reason': 'USER_PROJECT_DENIED', 'domain': 'googleapis.com', 'metadata': {'containerInfo': 'projects/gzy-354100117', 'service': 'earthengine.googleapis.com', 'consumer': 'projects/gzy-354100117'}}]\">",
            "\nDuring handling of the above exception, another exception occurred:\n",
            "\u001b[0;31mEEException\u001b[0m                               Traceback (most recent call last)",
            "\u001b[0;32m<ipython-input-18-3f7bebcb9f33>\u001b[0m in \u001b[0;36m<cell line: 0>\u001b[0;34m()\u001b[0m\n\u001b[1;32m      1\u001b[0m \u001b[0mee\u001b[0m\u001b[0;34m.\u001b[0m\u001b[0mAuthenticate\u001b[0m\u001b[0;34m(\u001b[0m\u001b[0;34m)\u001b[0m\u001b[0;34m\u001b[0m\u001b[0;34m\u001b[0m\u001b[0m\n\u001b[0;32m----> 2\u001b[0;31m \u001b[0mee\u001b[0m\u001b[0;34m.\u001b[0m\u001b[0mInitialize\u001b[0m\u001b[0;34m(\u001b[0m\u001b[0mproject\u001b[0m\u001b[0;34m=\u001b[0m\u001b[0;34m'gzy-354100117'\u001b[0m\u001b[0;34m)\u001b[0m\u001b[0;34m\u001b[0m\u001b[0;34m\u001b[0m\u001b[0m\n\u001b[0m",
            "\u001b[0;32m/usr/local/lib/python3.11/dist-packages/ee/_utils.py\u001b[0m in \u001b[0;36mwrapper\u001b[0;34m(*args, **kwargs)\u001b[0m\n\u001b[1;32m     36\u001b[0m           \u001b[0;32mif\u001b[0m \u001b[0mnew_key\u001b[0m \u001b[0;32mnot\u001b[0m \u001b[0;32min\u001b[0m \u001b[0mkwargs\u001b[0m\u001b[0;34m:\u001b[0m\u001b[0;34m\u001b[0m\u001b[0;34m\u001b[0m\u001b[0m\n\u001b[1;32m     37\u001b[0m             \u001b[0mkwargs\u001b[0m\u001b[0;34m[\u001b[0m\u001b[0mnew_key\u001b[0m\u001b[0;34m]\u001b[0m \u001b[0;34m=\u001b[0m \u001b[0mold_key_val\u001b[0m\u001b[0;34m\u001b[0m\u001b[0;34m\u001b[0m\u001b[0m\n\u001b[0;32m---> 38\u001b[0;31m       \u001b[0;32mreturn\u001b[0m \u001b[0mfunc\u001b[0m\u001b[0;34m(\u001b[0m\u001b[0;34m*\u001b[0m\u001b[0margs\u001b[0m\u001b[0;34m,\u001b[0m \u001b[0;34m**\u001b[0m\u001b[0mkwargs\u001b[0m\u001b[0;34m)\u001b[0m\u001b[0;34m\u001b[0m\u001b[0;34m\u001b[0m\u001b[0m\n\u001b[0m\u001b[1;32m     39\u001b[0m \u001b[0;34m\u001b[0m\u001b[0m\n\u001b[1;32m     40\u001b[0m     \u001b[0;32mreturn\u001b[0m \u001b[0mwrapper\u001b[0m\u001b[0;34m\u001b[0m\u001b[0;34m\u001b[0m\u001b[0m\n",
            "\u001b[0;32m/usr/local/lib/python3.11/dist-packages/ee/__init__.py\u001b[0m in \u001b[0;36mInitialize\u001b[0;34m(credentials, url, cloud_api_key, http_transport, project)\u001b[0m\n\u001b[1;32m    230\u001b[0m     ):\n\u001b[1;32m    231\u001b[0m       \u001b[0;32mraise\u001b[0m \u001b[0mEEException\u001b[0m\u001b[0;34m(\u001b[0m\u001b[0mNO_PROJECT_EXCEPTION\u001b[0m\u001b[0;34m)\u001b[0m \u001b[0;32mfrom\u001b[0m \u001b[0;32mNone\u001b[0m\u001b[0;34m\u001b[0m\u001b[0;34m\u001b[0m\u001b[0m\n\u001b[0;32m--> 232\u001b[0;31m     \u001b[0;32mraise\u001b[0m \u001b[0me\u001b[0m\u001b[0;34m\u001b[0m\u001b[0;34m\u001b[0m\u001b[0m\n\u001b[0m\u001b[1;32m    233\u001b[0m \u001b[0;34m\u001b[0m\u001b[0m\n\u001b[1;32m    234\u001b[0m   \u001b[0;32mfor\u001b[0m \u001b[0mdynamic_class\u001b[0m \u001b[0;32min\u001b[0m \u001b[0m_DYNAMIC_CLASSES\u001b[0m\u001b[0;34m:\u001b[0m\u001b[0;34m\u001b[0m\u001b[0;34m\u001b[0m\u001b[0m\n",
            "\u001b[0;32m/usr/local/lib/python3.11/dist-packages/ee/__init__.py\u001b[0m in \u001b[0;36mInitialize\u001b[0;34m(credentials, url, cloud_api_key, http_transport, project)\u001b[0m\n\u001b[1;32m    212\u001b[0m   \u001b[0;31m# Initialize the dynamically loaded functions on the objects that want them.\u001b[0m\u001b[0;34m\u001b[0m\u001b[0;34m\u001b[0m\u001b[0m\n\u001b[1;32m    213\u001b[0m   \u001b[0;32mtry\u001b[0m\u001b[0;34m:\u001b[0m\u001b[0;34m\u001b[0m\u001b[0;34m\u001b[0m\u001b[0m\n\u001b[0;32m--> 214\u001b[0;31m     \u001b[0mApiFunction\u001b[0m\u001b[0;34m.\u001b[0m\u001b[0minitialize\u001b[0m\u001b[0;34m(\u001b[0m\u001b[0;34m)\u001b[0m\u001b[0;34m\u001b[0m\u001b[0;34m\u001b[0m\u001b[0m\n\u001b[0m\u001b[1;32m    215\u001b[0m   \u001b[0;32mexcept\u001b[0m \u001b[0mEEException\u001b[0m \u001b[0;32mas\u001b[0m \u001b[0me\u001b[0m\u001b[0;34m:\u001b[0m\u001b[0;34m\u001b[0m\u001b[0;34m\u001b[0m\u001b[0m\n\u001b[1;32m    216\u001b[0m     \u001b[0;31m# We tried to detect missing projects before initialization, but some cases\u001b[0m\u001b[0;34m\u001b[0m\u001b[0;34m\u001b[0m\u001b[0m\n",
            "\u001b[0;32m/usr/local/lib/python3.11/dist-packages/ee/apifunction.py\u001b[0m in \u001b[0;36minitialize\u001b[0;34m(cls)\u001b[0m\n\u001b[1;32m    159\u001b[0m     \u001b[0;34m\"\"\"Initializes the list of signatures from the Earth Engine front-end.\"\"\"\u001b[0m\u001b[0;34m\u001b[0m\u001b[0;34m\u001b[0m\u001b[0m\n\u001b[1;32m    160\u001b[0m     \u001b[0;32mif\u001b[0m \u001b[0;32mnot\u001b[0m \u001b[0mcls\u001b[0m\u001b[0;34m.\u001b[0m\u001b[0m_api\u001b[0m\u001b[0;34m:\u001b[0m\u001b[0;34m\u001b[0m\u001b[0;34m\u001b[0m\u001b[0m\n\u001b[0;32m--> 161\u001b[0;31m       \u001b[0msignatures\u001b[0m \u001b[0;34m=\u001b[0m \u001b[0mdata\u001b[0m\u001b[0;34m.\u001b[0m\u001b[0mgetAlgorithms\u001b[0m\u001b[0;34m(\u001b[0m\u001b[0;34m)\u001b[0m\u001b[0;34m\u001b[0m\u001b[0;34m\u001b[0m\u001b[0m\n\u001b[0m\u001b[1;32m    162\u001b[0m       \u001b[0mapi\u001b[0m \u001b[0;34m=\u001b[0m \u001b[0;34m{\u001b[0m\u001b[0;34m}\u001b[0m\u001b[0;34m\u001b[0m\u001b[0;34m\u001b[0m\u001b[0m\n\u001b[1;32m    163\u001b[0m       \u001b[0;32mfor\u001b[0m \u001b[0mname\u001b[0m\u001b[0;34m,\u001b[0m \u001b[0msig\u001b[0m \u001b[0;32min\u001b[0m \u001b[0msignatures\u001b[0m\u001b[0;34m.\u001b[0m\u001b[0mitems\u001b[0m\u001b[0;34m(\u001b[0m\u001b[0;34m)\u001b[0m\u001b[0;34m:\u001b[0m\u001b[0;34m\u001b[0m\u001b[0;34m\u001b[0m\u001b[0m\n",
            "\u001b[0;32m/usr/local/lib/python3.11/dist-packages/ee/data.py\u001b[0m in \u001b[0;36mgetAlgorithms\u001b[0;34m()\u001b[0m\n\u001b[1;32m   1497\u001b[0m           file=sys.stderr)\n\u001b[1;32m   1498\u001b[0m   \u001b[0mcall\u001b[0m\u001b[0;34m.\u001b[0m\u001b[0madd_response_callback\u001b[0m\u001b[0;34m(\u001b[0m\u001b[0minspect\u001b[0m\u001b[0;34m)\u001b[0m\u001b[0;34m\u001b[0m\u001b[0;34m\u001b[0m\u001b[0m\n\u001b[0;32m-> 1499\u001b[0;31m   \u001b[0;32mreturn\u001b[0m \u001b[0m_cloud_api_utils\u001b[0m\u001b[0;34m.\u001b[0m\u001b[0mconvert_algorithms\u001b[0m\u001b[0;34m(\u001b[0m\u001b[0m_execute_cloud_call\u001b[0m\u001b[0;34m(\u001b[0m\u001b[0mcall\u001b[0m\u001b[0;34m)\u001b[0m\u001b[0;34m)\u001b[0m\u001b[0;34m\u001b[0m\u001b[0;34m\u001b[0m\u001b[0m\n\u001b[0m\u001b[1;32m   1500\u001b[0m \u001b[0;34m\u001b[0m\u001b[0m\n\u001b[1;32m   1501\u001b[0m \u001b[0;34m\u001b[0m\u001b[0m\n",
            "\u001b[0;32m/usr/local/lib/python3.11/dist-packages/ee/data.py\u001b[0m in \u001b[0;36m_execute_cloud_call\u001b[0;34m(call, num_retries)\u001b[0m\n\u001b[1;32m    408\u001b[0m     \u001b[0;32mreturn\u001b[0m \u001b[0mcall\u001b[0m\u001b[0;34m.\u001b[0m\u001b[0mexecute\u001b[0m\u001b[0;34m(\u001b[0m\u001b[0mnum_retries\u001b[0m\u001b[0;34m=\u001b[0m\u001b[0mnum_retries\u001b[0m\u001b[0;34m)\u001b[0m\u001b[0;34m\u001b[0m\u001b[0;34m\u001b[0m\u001b[0m\n\u001b[1;32m    409\u001b[0m   \u001b[0;32mexcept\u001b[0m \u001b[0mgoogleapiclient\u001b[0m\u001b[0;34m.\u001b[0m\u001b[0merrors\u001b[0m\u001b[0;34m.\u001b[0m\u001b[0mHttpError\u001b[0m \u001b[0;32mas\u001b[0m \u001b[0me\u001b[0m\u001b[0;34m:\u001b[0m\u001b[0;34m\u001b[0m\u001b[0;34m\u001b[0m\u001b[0m\n\u001b[0;32m--> 410\u001b[0;31m     \u001b[0;32mraise\u001b[0m \u001b[0m_translate_cloud_exception\u001b[0m\u001b[0;34m(\u001b[0m\u001b[0me\u001b[0m\u001b[0;34m)\u001b[0m  \u001b[0;31m# pylint: disable=raise-missing-from\u001b[0m\u001b[0;34m\u001b[0m\u001b[0;34m\u001b[0m\u001b[0m\n\u001b[0m\u001b[1;32m    411\u001b[0m \u001b[0;34m\u001b[0m\u001b[0m\n\u001b[1;32m    412\u001b[0m \u001b[0;34m\u001b[0m\u001b[0m\n",
            "\u001b[0;31mEEException\u001b[0m: Project 'projects/gzy-354100117' not found or deleted."
          ]
        }
      ],
      "source": [
        "ee.Authenticate()\n",
        "ee.Initialize(project='ee-gzy354100117')"
      ],
      "id": "c7ZwqZEW2H5q"
    },
    {
      "cell_type": "markdown",
      "metadata": {
        "id": "yh8NfkLu2H5q"
      },
      "source": [
        "## Earth Engine data types\n",
        "\n",
        "### Image\n",
        "\n",
        "#### Loading Earth Engine images"
      ],
      "id": "yh8NfkLu2H5q"
    },
    {
      "cell_type": "code",
      "execution_count": 19,
      "metadata": {
        "id": "KBr6qclL2H5q",
        "outputId": "df31239d-dabe-46b4-f138-bfe2b1a82697",
        "colab": {
          "base_uri": "https://localhost:8080/",
          "height": 443
        }
      },
      "outputs": [
        {
          "output_type": "display_data",
          "data": {
            "text/plain": [
              "<IPython.core.display.HTML object>"
            ],
            "text/html": [
              "\n",
              "            <style>\n",
              "                .geemap-dark {\n",
              "                    --jp-widgets-color: white;\n",
              "                    --jp-widgets-label-color: white;\n",
              "                    --jp-ui-font-color1: white;\n",
              "                    --jp-layout-color2: #454545;\n",
              "                    background-color: #383838;\n",
              "                }\n",
              "\n",
              "                .geemap-dark .jupyter-button {\n",
              "                    --jp-layout-color3: #383838;\n",
              "                }\n",
              "\n",
              "                .geemap-colab {\n",
              "                    background-color: var(--colab-primary-surface-color, white);\n",
              "                }\n",
              "\n",
              "                .geemap-colab .jupyter-button {\n",
              "                    --jp-layout-color3: var(--colab-primary-surface-color, white);\n",
              "                }\n",
              "            </style>\n",
              "            "
            ]
          },
          "metadata": {}
        },
        {
          "output_type": "error",
          "ename": "EEException",
          "evalue": "Project 'projects/gzy-354100117' not found or deleted.",
          "traceback": [
            "\u001b[0;31m---------------------------------------------------------------------------\u001b[0m",
            "\u001b[0;31mHttpError\u001b[0m                                 Traceback (most recent call last)",
            "\u001b[0;32m/usr/local/lib/python3.11/dist-packages/ee/data.py\u001b[0m in \u001b[0;36m_execute_cloud_call\u001b[0;34m(call, num_retries)\u001b[0m\n\u001b[1;32m    407\u001b[0m   \u001b[0;32mtry\u001b[0m\u001b[0;34m:\u001b[0m\u001b[0;34m\u001b[0m\u001b[0;34m\u001b[0m\u001b[0m\n\u001b[0;32m--> 408\u001b[0;31m     \u001b[0;32mreturn\u001b[0m \u001b[0mcall\u001b[0m\u001b[0;34m.\u001b[0m\u001b[0mexecute\u001b[0m\u001b[0;34m(\u001b[0m\u001b[0mnum_retries\u001b[0m\u001b[0;34m=\u001b[0m\u001b[0mnum_retries\u001b[0m\u001b[0;34m)\u001b[0m\u001b[0;34m\u001b[0m\u001b[0;34m\u001b[0m\u001b[0m\n\u001b[0m\u001b[1;32m    409\u001b[0m   \u001b[0;32mexcept\u001b[0m \u001b[0mgoogleapiclient\u001b[0m\u001b[0;34m.\u001b[0m\u001b[0merrors\u001b[0m\u001b[0;34m.\u001b[0m\u001b[0mHttpError\u001b[0m \u001b[0;32mas\u001b[0m \u001b[0me\u001b[0m\u001b[0;34m:\u001b[0m\u001b[0;34m\u001b[0m\u001b[0;34m\u001b[0m\u001b[0m\n",
            "\u001b[0;32m/usr/local/lib/python3.11/dist-packages/googleapiclient/_helpers.py\u001b[0m in \u001b[0;36mpositional_wrapper\u001b[0;34m(*args, **kwargs)\u001b[0m\n\u001b[1;32m    129\u001b[0m                     \u001b[0mlogger\u001b[0m\u001b[0;34m.\u001b[0m\u001b[0mwarning\u001b[0m\u001b[0;34m(\u001b[0m\u001b[0mmessage\u001b[0m\u001b[0;34m)\u001b[0m\u001b[0;34m\u001b[0m\u001b[0;34m\u001b[0m\u001b[0m\n\u001b[0;32m--> 130\u001b[0;31m             \u001b[0;32mreturn\u001b[0m \u001b[0mwrapped\u001b[0m\u001b[0;34m(\u001b[0m\u001b[0;34m*\u001b[0m\u001b[0margs\u001b[0m\u001b[0;34m,\u001b[0m \u001b[0;34m**\u001b[0m\u001b[0mkwargs\u001b[0m\u001b[0;34m)\u001b[0m\u001b[0;34m\u001b[0m\u001b[0;34m\u001b[0m\u001b[0m\n\u001b[0m\u001b[1;32m    131\u001b[0m \u001b[0;34m\u001b[0m\u001b[0m\n",
            "\u001b[0;32m/usr/local/lib/python3.11/dist-packages/googleapiclient/http.py\u001b[0m in \u001b[0;36mexecute\u001b[0;34m(self, http, num_retries)\u001b[0m\n\u001b[1;32m    937\u001b[0m         \u001b[0;32mif\u001b[0m \u001b[0mresp\u001b[0m\u001b[0;34m.\u001b[0m\u001b[0mstatus\u001b[0m \u001b[0;34m>=\u001b[0m \u001b[0;36m300\u001b[0m\u001b[0;34m:\u001b[0m\u001b[0;34m\u001b[0m\u001b[0;34m\u001b[0m\u001b[0m\n\u001b[0;32m--> 938\u001b[0;31m             \u001b[0;32mraise\u001b[0m \u001b[0mHttpError\u001b[0m\u001b[0;34m(\u001b[0m\u001b[0mresp\u001b[0m\u001b[0;34m,\u001b[0m \u001b[0mcontent\u001b[0m\u001b[0;34m,\u001b[0m \u001b[0muri\u001b[0m\u001b[0;34m=\u001b[0m\u001b[0mself\u001b[0m\u001b[0;34m.\u001b[0m\u001b[0muri\u001b[0m\u001b[0;34m)\u001b[0m\u001b[0;34m\u001b[0m\u001b[0;34m\u001b[0m\u001b[0m\n\u001b[0m\u001b[1;32m    939\u001b[0m         \u001b[0;32mreturn\u001b[0m \u001b[0mself\u001b[0m\u001b[0;34m.\u001b[0m\u001b[0mpostproc\u001b[0m\u001b[0;34m(\u001b[0m\u001b[0mresp\u001b[0m\u001b[0;34m,\u001b[0m \u001b[0mcontent\u001b[0m\u001b[0;34m)\u001b[0m\u001b[0;34m\u001b[0m\u001b[0;34m\u001b[0m\u001b[0m\n",
            "\u001b[0;31mHttpError\u001b[0m: <HttpError 400 when requesting https://earthengine.googleapis.com/v1/projects/gzy-354100117/algorithms?prettyPrint=false&alt=json returned \"Project 'projects/gzy-354100117' not found or deleted.\". Details: \"[{'@type': 'type.googleapis.com/google.rpc.ErrorInfo', 'reason': 'USER_PROJECT_DENIED', 'domain': 'googleapis.com', 'metadata': {'service': 'earthengine.googleapis.com', 'containerInfo': 'projects/gzy-354100117', 'consumer': 'projects/gzy-354100117'}}]\">",
            "\nDuring handling of the above exception, another exception occurred:\n",
            "\u001b[0;31mEEException\u001b[0m                               Traceback (most recent call last)",
            "\u001b[0;32m<ipython-input-19-4b131ae7e044>\u001b[0m in \u001b[0;36m<cell line: 0>\u001b[0;34m()\u001b[0m\n\u001b[0;32m----> 1\u001b[0;31m \u001b[0mimage\u001b[0m \u001b[0;34m=\u001b[0m \u001b[0mee\u001b[0m\u001b[0;34m.\u001b[0m\u001b[0mImage\u001b[0m\u001b[0;34m(\u001b[0m\u001b[0;34m'USGS/SRTMGL1_003'\u001b[0m\u001b[0;34m)\u001b[0m\u001b[0;34m\u001b[0m\u001b[0;34m\u001b[0m\u001b[0m\n\u001b[0m",
            "\u001b[0;32m/usr/local/lib/python3.11/dist-packages/ee/computedobject.py\u001b[0m in \u001b[0;36m__call__\u001b[0;34m(cls, *args, **kwargs)\u001b[0m\n\u001b[1;32m     26\u001b[0m       \u001b[0;32mreturn\u001b[0m \u001b[0margs\u001b[0m\u001b[0;34m[\u001b[0m\u001b[0;36m0\u001b[0m\u001b[0;34m]\u001b[0m\u001b[0;34m\u001b[0m\u001b[0;34m\u001b[0m\u001b[0m\n\u001b[1;32m     27\u001b[0m     \u001b[0;32melse\u001b[0m\u001b[0;34m:\u001b[0m\u001b[0;34m\u001b[0m\u001b[0;34m\u001b[0m\u001b[0m\n\u001b[0;32m---> 28\u001b[0;31m       \u001b[0;32mreturn\u001b[0m \u001b[0mtype\u001b[0m\u001b[0;34m.\u001b[0m\u001b[0m__call__\u001b[0m\u001b[0;34m(\u001b[0m\u001b[0mcls\u001b[0m\u001b[0;34m,\u001b[0m \u001b[0;34m*\u001b[0m\u001b[0margs\u001b[0m\u001b[0;34m,\u001b[0m \u001b[0;34m**\u001b[0m\u001b[0mkwargs\u001b[0m\u001b[0;34m)\u001b[0m\u001b[0;34m\u001b[0m\u001b[0;34m\u001b[0m\u001b[0m\n\u001b[0m\u001b[1;32m     29\u001b[0m \u001b[0;34m\u001b[0m\u001b[0m\n\u001b[1;32m     30\u001b[0m \u001b[0;34m\u001b[0m\u001b[0m\n",
            "\u001b[0;32m/usr/local/lib/python3.11/dist-packages/ee/deprecation.py\u001b[0m in \u001b[0;36mWrapper\u001b[0;34m(*args, **kwargs)\u001b[0m\n\u001b[1;32m    122\u001b[0m         \u001b[0;32mif\u001b[0m \u001b[0masset\u001b[0m\u001b[0;34m:\u001b[0m\u001b[0;34m\u001b[0m\u001b[0;34m\u001b[0m\u001b[0m\n\u001b[1;32m    123\u001b[0m           \u001b[0m_IssueAssetDeprecationWarning\u001b[0m\u001b[0;34m(\u001b[0m\u001b[0masset\u001b[0m\u001b[0;34m)\u001b[0m\u001b[0;34m\u001b[0m\u001b[0;34m\u001b[0m\u001b[0m\n\u001b[0;32m--> 124\u001b[0;31m       \u001b[0;32mreturn\u001b[0m \u001b[0mfunc\u001b[0m\u001b[0;34m(\u001b[0m\u001b[0;34m*\u001b[0m\u001b[0margs\u001b[0m\u001b[0;34m,\u001b[0m \u001b[0;34m**\u001b[0m\u001b[0mkwargs\u001b[0m\u001b[0;34m)\u001b[0m\u001b[0;34m\u001b[0m\u001b[0;34m\u001b[0m\u001b[0m\n\u001b[0m\u001b[1;32m    125\u001b[0m \u001b[0;34m\u001b[0m\u001b[0m\n\u001b[1;32m    126\u001b[0m     \u001b[0;32mreturn\u001b[0m \u001b[0mWrapper\u001b[0m\u001b[0;34m\u001b[0m\u001b[0;34m\u001b[0m\u001b[0m\n",
            "\u001b[0;32m/usr/local/lib/python3.11/dist-packages/ee/image.py\u001b[0m in \u001b[0;36m__init__\u001b[0;34m(self, args, version)\u001b[0m\n\u001b[1;32m     73\u001b[0m       \u001b[0mEEException\u001b[0m\u001b[0;34m:\u001b[0m \u001b[0;32mif\u001b[0m \u001b[0mpassed\u001b[0m \u001b[0msomething\u001b[0m \u001b[0mother\u001b[0m \u001b[0mthan\u001b[0m \u001b[0mthe\u001b[0m \u001b[0mabove\u001b[0m\u001b[0;34m.\u001b[0m\u001b[0;34m\u001b[0m\u001b[0;34m\u001b[0m\u001b[0m\n\u001b[1;32m     74\u001b[0m     \"\"\"\n\u001b[0;32m---> 75\u001b[0;31m     \u001b[0mself\u001b[0m\u001b[0;34m.\u001b[0m\u001b[0minitialize\u001b[0m\u001b[0;34m(\u001b[0m\u001b[0;34m)\u001b[0m\u001b[0;34m\u001b[0m\u001b[0;34m\u001b[0m\u001b[0m\n\u001b[0m\u001b[1;32m     76\u001b[0m \u001b[0;34m\u001b[0m\u001b[0m\n\u001b[1;32m     77\u001b[0m     \u001b[0;32mif\u001b[0m \u001b[0mversion\u001b[0m \u001b[0;32mis\u001b[0m \u001b[0;32mnot\u001b[0m \u001b[0;32mNone\u001b[0m\u001b[0;34m:\u001b[0m\u001b[0;34m\u001b[0m\u001b[0;34m\u001b[0m\u001b[0m\n",
            "\u001b[0;32m/usr/local/lib/python3.11/dist-packages/ee/image.py\u001b[0m in \u001b[0;36minitialize\u001b[0;34m(cls)\u001b[0m\n\u001b[1;32m    119\u001b[0m     \u001b[0;34m\"\"\"Imports API functions to this class.\"\"\"\u001b[0m\u001b[0;34m\u001b[0m\u001b[0;34m\u001b[0m\u001b[0m\n\u001b[1;32m    120\u001b[0m     \u001b[0;32mif\u001b[0m \u001b[0;32mnot\u001b[0m \u001b[0mcls\u001b[0m\u001b[0;34m.\u001b[0m\u001b[0m_initialized\u001b[0m\u001b[0;34m:\u001b[0m\u001b[0;34m\u001b[0m\u001b[0;34m\u001b[0m\u001b[0m\n\u001b[0;32m--> 121\u001b[0;31m       \u001b[0mapifunction\u001b[0m\u001b[0;34m.\u001b[0m\u001b[0mApiFunction\u001b[0m\u001b[0;34m.\u001b[0m\u001b[0mimportApi\u001b[0m\u001b[0;34m(\u001b[0m\u001b[0mcls\u001b[0m\u001b[0;34m,\u001b[0m \u001b[0mcls\u001b[0m\u001b[0;34m.\u001b[0m\u001b[0mname\u001b[0m\u001b[0;34m(\u001b[0m\u001b[0;34m)\u001b[0m\u001b[0;34m,\u001b[0m \u001b[0mcls\u001b[0m\u001b[0;34m.\u001b[0m\u001b[0mname\u001b[0m\u001b[0;34m(\u001b[0m\u001b[0;34m)\u001b[0m\u001b[0;34m)\u001b[0m\u001b[0;34m\u001b[0m\u001b[0;34m\u001b[0m\u001b[0m\n\u001b[0m\u001b[1;32m    122\u001b[0m       \u001b[0mcls\u001b[0m\u001b[0;34m.\u001b[0m\u001b[0m_initialized\u001b[0m \u001b[0;34m=\u001b[0m \u001b[0;32mTrue\u001b[0m\u001b[0;34m\u001b[0m\u001b[0;34m\u001b[0m\u001b[0m\n\u001b[1;32m    123\u001b[0m \u001b[0;34m\u001b[0m\u001b[0m\n",
            "\u001b[0;32m/usr/local/lib/python3.11/dist-packages/ee/_utils.py\u001b[0m in \u001b[0;36mwrapper\u001b[0;34m(*args, **kwargs)\u001b[0m\n\u001b[1;32m     36\u001b[0m           \u001b[0;32mif\u001b[0m \u001b[0mnew_key\u001b[0m \u001b[0;32mnot\u001b[0m \u001b[0;32min\u001b[0m \u001b[0mkwargs\u001b[0m\u001b[0;34m:\u001b[0m\u001b[0;34m\u001b[0m\u001b[0;34m\u001b[0m\u001b[0m\n\u001b[1;32m     37\u001b[0m             \u001b[0mkwargs\u001b[0m\u001b[0;34m[\u001b[0m\u001b[0mnew_key\u001b[0m\u001b[0;34m]\u001b[0m \u001b[0;34m=\u001b[0m \u001b[0mold_key_val\u001b[0m\u001b[0;34m\u001b[0m\u001b[0;34m\u001b[0m\u001b[0m\n\u001b[0;32m---> 38\u001b[0;31m       \u001b[0;32mreturn\u001b[0m \u001b[0mfunc\u001b[0m\u001b[0;34m(\u001b[0m\u001b[0;34m*\u001b[0m\u001b[0margs\u001b[0m\u001b[0;34m,\u001b[0m \u001b[0;34m**\u001b[0m\u001b[0mkwargs\u001b[0m\u001b[0;34m)\u001b[0m\u001b[0;34m\u001b[0m\u001b[0;34m\u001b[0m\u001b[0m\n\u001b[0m\u001b[1;32m     39\u001b[0m \u001b[0;34m\u001b[0m\u001b[0m\n\u001b[1;32m     40\u001b[0m     \u001b[0;32mreturn\u001b[0m \u001b[0mwrapper\u001b[0m\u001b[0;34m\u001b[0m\u001b[0;34m\u001b[0m\u001b[0m\n",
            "\u001b[0;32m/usr/local/lib/python3.11/dist-packages/ee/apifunction.py\u001b[0m in \u001b[0;36mimportApi\u001b[0;34m(cls, target, prefix, type_name, prepend)\u001b[0m\n\u001b[1;32m    195\u001b[0m         \u001b[0mfunctions\u001b[0m\u001b[0;34m.\u001b[0m\u001b[0;34m\u001b[0m\u001b[0;34m\u001b[0m\u001b[0m\n\u001b[1;32m    196\u001b[0m     \"\"\"\n\u001b[0;32m--> 197\u001b[0;31m     \u001b[0mcls\u001b[0m\u001b[0;34m.\u001b[0m\u001b[0minitialize\u001b[0m\u001b[0;34m(\u001b[0m\u001b[0;34m)\u001b[0m\u001b[0;34m\u001b[0m\u001b[0;34m\u001b[0m\u001b[0m\n\u001b[0m\u001b[1;32m    198\u001b[0m     \u001b[0mprepend\u001b[0m \u001b[0;34m=\u001b[0m \u001b[0mprepend\u001b[0m \u001b[0;32mor\u001b[0m \u001b[0;34m''\u001b[0m\u001b[0;34m\u001b[0m\u001b[0;34m\u001b[0m\u001b[0m\n\u001b[1;32m    199\u001b[0m     \u001b[0;32mfor\u001b[0m \u001b[0mname\u001b[0m\u001b[0;34m,\u001b[0m \u001b[0mapi_func\u001b[0m \u001b[0;32min\u001b[0m \u001b[0mcls\u001b[0m\u001b[0;34m.\u001b[0m\u001b[0m_api\u001b[0m\u001b[0;34m.\u001b[0m\u001b[0mitems\u001b[0m\u001b[0;34m(\u001b[0m\u001b[0;34m)\u001b[0m\u001b[0;34m:\u001b[0m\u001b[0;34m\u001b[0m\u001b[0;34m\u001b[0m\u001b[0m\n",
            "\u001b[0;32m/usr/local/lib/python3.11/dist-packages/ee/apifunction.py\u001b[0m in \u001b[0;36minitialize\u001b[0;34m(cls)\u001b[0m\n\u001b[1;32m    159\u001b[0m     \u001b[0;34m\"\"\"Initializes the list of signatures from the Earth Engine front-end.\"\"\"\u001b[0m\u001b[0;34m\u001b[0m\u001b[0;34m\u001b[0m\u001b[0m\n\u001b[1;32m    160\u001b[0m     \u001b[0;32mif\u001b[0m \u001b[0;32mnot\u001b[0m \u001b[0mcls\u001b[0m\u001b[0;34m.\u001b[0m\u001b[0m_api\u001b[0m\u001b[0;34m:\u001b[0m\u001b[0;34m\u001b[0m\u001b[0;34m\u001b[0m\u001b[0m\n\u001b[0;32m--> 161\u001b[0;31m       \u001b[0msignatures\u001b[0m \u001b[0;34m=\u001b[0m \u001b[0mdata\u001b[0m\u001b[0;34m.\u001b[0m\u001b[0mgetAlgorithms\u001b[0m\u001b[0;34m(\u001b[0m\u001b[0;34m)\u001b[0m\u001b[0;34m\u001b[0m\u001b[0;34m\u001b[0m\u001b[0m\n\u001b[0m\u001b[1;32m    162\u001b[0m       \u001b[0mapi\u001b[0m \u001b[0;34m=\u001b[0m \u001b[0;34m{\u001b[0m\u001b[0;34m}\u001b[0m\u001b[0;34m\u001b[0m\u001b[0;34m\u001b[0m\u001b[0m\n\u001b[1;32m    163\u001b[0m       \u001b[0;32mfor\u001b[0m \u001b[0mname\u001b[0m\u001b[0;34m,\u001b[0m \u001b[0msig\u001b[0m \u001b[0;32min\u001b[0m \u001b[0msignatures\u001b[0m\u001b[0;34m.\u001b[0m\u001b[0mitems\u001b[0m\u001b[0;34m(\u001b[0m\u001b[0;34m)\u001b[0m\u001b[0;34m:\u001b[0m\u001b[0;34m\u001b[0m\u001b[0;34m\u001b[0m\u001b[0m\n",
            "\u001b[0;32m/usr/local/lib/python3.11/dist-packages/ee/data.py\u001b[0m in \u001b[0;36mgetAlgorithms\u001b[0;34m()\u001b[0m\n\u001b[1;32m   1497\u001b[0m           file=sys.stderr)\n\u001b[1;32m   1498\u001b[0m   \u001b[0mcall\u001b[0m\u001b[0;34m.\u001b[0m\u001b[0madd_response_callback\u001b[0m\u001b[0;34m(\u001b[0m\u001b[0minspect\u001b[0m\u001b[0;34m)\u001b[0m\u001b[0;34m\u001b[0m\u001b[0;34m\u001b[0m\u001b[0m\n\u001b[0;32m-> 1499\u001b[0;31m   \u001b[0;32mreturn\u001b[0m \u001b[0m_cloud_api_utils\u001b[0m\u001b[0;34m.\u001b[0m\u001b[0mconvert_algorithms\u001b[0m\u001b[0;34m(\u001b[0m\u001b[0m_execute_cloud_call\u001b[0m\u001b[0;34m(\u001b[0m\u001b[0mcall\u001b[0m\u001b[0;34m)\u001b[0m\u001b[0;34m)\u001b[0m\u001b[0;34m\u001b[0m\u001b[0;34m\u001b[0m\u001b[0m\n\u001b[0m\u001b[1;32m   1500\u001b[0m \u001b[0;34m\u001b[0m\u001b[0m\n\u001b[1;32m   1501\u001b[0m \u001b[0;34m\u001b[0m\u001b[0m\n",
            "\u001b[0;32m/usr/local/lib/python3.11/dist-packages/ee/data.py\u001b[0m in \u001b[0;36m_execute_cloud_call\u001b[0;34m(call, num_retries)\u001b[0m\n\u001b[1;32m    408\u001b[0m     \u001b[0;32mreturn\u001b[0m \u001b[0mcall\u001b[0m\u001b[0;34m.\u001b[0m\u001b[0mexecute\u001b[0m\u001b[0;34m(\u001b[0m\u001b[0mnum_retries\u001b[0m\u001b[0;34m=\u001b[0m\u001b[0mnum_retries\u001b[0m\u001b[0;34m)\u001b[0m\u001b[0;34m\u001b[0m\u001b[0;34m\u001b[0m\u001b[0m\n\u001b[1;32m    409\u001b[0m   \u001b[0;32mexcept\u001b[0m \u001b[0mgoogleapiclient\u001b[0m\u001b[0;34m.\u001b[0m\u001b[0merrors\u001b[0m\u001b[0;34m.\u001b[0m\u001b[0mHttpError\u001b[0m \u001b[0;32mas\u001b[0m \u001b[0me\u001b[0m\u001b[0;34m:\u001b[0m\u001b[0;34m\u001b[0m\u001b[0;34m\u001b[0m\u001b[0m\n\u001b[0;32m--> 410\u001b[0;31m     \u001b[0;32mraise\u001b[0m \u001b[0m_translate_cloud_exception\u001b[0m\u001b[0;34m(\u001b[0m\u001b[0me\u001b[0m\u001b[0;34m)\u001b[0m  \u001b[0;31m# pylint: disable=raise-missing-from\u001b[0m\u001b[0;34m\u001b[0m\u001b[0;34m\u001b[0m\u001b[0m\n\u001b[0m\u001b[1;32m    411\u001b[0m \u001b[0;34m\u001b[0m\u001b[0m\n\u001b[1;32m    412\u001b[0m \u001b[0;34m\u001b[0m\u001b[0m\n",
            "\u001b[0;31mEEException\u001b[0m: Project 'projects/gzy-354100117' not found or deleted."
          ]
        }
      ],
      "source": [
        "image = ee.Image('USGS/SRTMGL1_003')"
      ],
      "id": "KBr6qclL2H5q"
    },
    {
      "cell_type": "code",
      "execution_count": null,
      "metadata": {
        "id": "Jg4_m7Sq2H5r"
      },
      "outputs": [],
      "source": [
        "image"
      ],
      "id": "Jg4_m7Sq2H5r"
    },
    {
      "cell_type": "code",
      "execution_count": null,
      "metadata": {
        "id": "0SFfyVVC2H5r"
      },
      "outputs": [],
      "source": [
        "image.getInfo()"
      ],
      "id": "0SFfyVVC2H5r"
    },
    {
      "cell_type": "markdown",
      "metadata": {
        "id": "nwOKgtu12H5r"
      },
      "source": [
        "#### Visualizing Earth Engine images"
      ],
      "id": "nwOKgtu12H5r"
    },
    {
      "cell_type": "code",
      "execution_count": null,
      "metadata": {
        "id": "2sHsBUjj2H5r"
      },
      "outputs": [],
      "source": [
        "Map = geemap.Map(center=[21.79, 70.87], zoom=3)\n",
        "image = ee.Image('USGS/SRTMGL1_003')\n",
        "vis_params = {\n",
        "    'min': 0,\n",
        "    'max': 6000,\n",
        "    'palette': ['006633', 'E5FFCC', '662A00', 'D8D8D8', 'F5F5F5'],\n",
        "}\n",
        "Map.addLayer(image, vis_params, 'SRTM')\n",
        "Map"
      ],
      "id": "2sHsBUjj2H5r"
    },
    {
      "cell_type": "markdown",
      "metadata": {
        "id": "bzGL8GxA2H5r"
      },
      "source": [
        "#### Loading Cloud GeoTIFFs"
      ],
      "id": "bzGL8GxA2H5r"
    },
    {
      "cell_type": "code",
      "execution_count": null,
      "metadata": {
        "id": "BjSnAjOq2H5s"
      },
      "outputs": [],
      "source": [
        "Map = geemap.Map()\n",
        "URL = 'https://bit.ly/3aSZ0fH'\n",
        "image = geemap.load_GeoTIFF(URL)\n",
        "vis = {\n",
        "    \"min\": 3000,\n",
        "    \"max\": 13500,\n",
        "    \"bands\": [\"B3\", \"B2\", \"B1\"],\n",
        "}\n",
        "Map.addLayer(image, vis, 'Cloud GeoTIFF')\n",
        "Map.centerObject(image)\n",
        "Map"
      ],
      "id": "BjSnAjOq2H5s"
    },
    {
      "cell_type": "code",
      "execution_count": null,
      "metadata": {
        "id": "Th6VY3KR2H5s"
      },
      "outputs": [],
      "source": [
        "B3 = 'gs://gcp-public-data-landsat/LC08/01/044/034/LC08_L1TP_044034_20131228_20170307_01_T1/LC08_L1TP_044034_20131228_20170307_01_T1_B3.TIF'\n",
        "B4 = 'gs://gcp-public-data-landsat/LC08/01/044/034/LC08_L1TP_044034_20131228_20170307_01_T1/LC08_L1TP_044034_20131228_20170307_01_T1_B4.TIF'\n",
        "B5 = 'gs://gcp-public-data-landsat/LC08/01/044/034/LC08_L1TP_044034_20131228_20170307_01_T1/LC08_L1TP_044034_20131228_20170307_01_T1_B5.TIF'"
      ],
      "id": "Th6VY3KR2H5s"
    },
    {
      "cell_type": "code",
      "execution_count": null,
      "metadata": {
        "id": "qVlCOfIe2H5s"
      },
      "outputs": [],
      "source": [
        "URLs = [B3, B4, B5]\n",
        "collection = geemap.load_GeoTIFFs(URLs)\n",
        "image = collection.toBands().rename(['Green', 'Red', 'NIR']).selfMask()"
      ],
      "id": "qVlCOfIe2H5s"
    },
    {
      "cell_type": "code",
      "execution_count": null,
      "metadata": {
        "id": "vs8w1aAo2H5s"
      },
      "outputs": [],
      "source": [
        "Map = geemap.Map()\n",
        "vis = {'bands': ['NIR', 'Red', 'Green'], 'min': 100, 'max': 12000, 'gamma': 0.8}\n",
        "Map.addLayer(image, vis, 'Image')\n",
        "Map.centerObject(image, 8)\n",
        "Map"
      ],
      "id": "vs8w1aAo2H5s"
    },
    {
      "cell_type": "markdown",
      "metadata": {
        "id": "vDIBrp9s2H5s"
      },
      "source": [
        "### ImageCollection\n",
        "\n",
        "#### Loading image collections"
      ],
      "id": "vDIBrp9s2H5s"
    },
    {
      "cell_type": "code",
      "execution_count": null,
      "metadata": {
        "id": "Iuj6PDeG2H5s"
      },
      "outputs": [],
      "source": [
        "collection = ee.ImageCollection('COPERNICUS/S2_SR')"
      ],
      "id": "Iuj6PDeG2H5s"
    },
    {
      "cell_type": "code",
      "execution_count": null,
      "metadata": {
        "id": "_4UaLIUW2H5s"
      },
      "outputs": [],
      "source": [
        "collection.limit(5)"
      ],
      "id": "_4UaLIUW2H5s"
    },
    {
      "cell_type": "markdown",
      "metadata": {
        "id": "ZidMIdn22H5t"
      },
      "source": [
        "#### Visualizing image collections"
      ],
      "id": "ZidMIdn22H5t"
    },
    {
      "cell_type": "code",
      "execution_count": null,
      "metadata": {
        "id": "vzwpRmoF2H5t"
      },
      "outputs": [],
      "source": [
        "Map = geemap.Map()\n",
        "collection = ee.ImageCollection('COPERNICUS/S2_SR')\n",
        "image = collection.median()\n",
        "\n",
        "vis = {\n",
        "    'min': 0.0,\n",
        "    'max': 3000,\n",
        "    'bands': ['B4', 'B3', 'B2'],\n",
        "}\n",
        "\n",
        "Map.setCenter(83.277, 17.7009, 12)\n",
        "Map.addLayer(image, vis, 'Sentinel-2')\n",
        "Map"
      ],
      "id": "vzwpRmoF2H5t"
    },
    {
      "cell_type": "markdown",
      "metadata": {
        "id": "0jqOz8OV2H5t"
      },
      "source": [
        "#### Filtering image collections"
      ],
      "id": "0jqOz8OV2H5t"
    },
    {
      "cell_type": "code",
      "execution_count": null,
      "metadata": {
        "id": "r7f0Lp0a2H5t"
      },
      "outputs": [],
      "source": [
        "Map = geemap.Map()\n",
        "collection = (\n",
        "    ee.ImageCollection('COPERNICUS/S2_SR')\n",
        "    .filterDate('2021-01-01', '2022-01-01')\n",
        "    .filter(ee.Filter.lt('CLOUDY_PIXEL_PERCENTAGE', 5))\n",
        ")\n",
        "image = collection.median()\n",
        "\n",
        "vis = {\n",
        "    'min': 0.0,\n",
        "    'max': 3000,\n",
        "    'bands': ['B4', 'B3', 'B2'],\n",
        "}\n",
        "\n",
        "Map.setCenter(83.277, 17.7009, 12)\n",
        "Map.addLayer(image, vis, 'Sentinel-2')\n",
        "Map"
      ],
      "id": "r7f0Lp0a2H5t"
    },
    {
      "cell_type": "markdown",
      "metadata": {
        "id": "9CojnZ-V2H5t"
      },
      "source": [
        "### Geometry\n",
        "\n",
        "#### Geometry types\n",
        "\n",
        "#### Creating Geometry objects"
      ],
      "id": "9CojnZ-V2H5t"
    },
    {
      "cell_type": "code",
      "execution_count": null,
      "metadata": {
        "id": "mYKM3LQI2H5u"
      },
      "outputs": [],
      "source": [
        "Map = geemap.Map()\n",
        "\n",
        "point = ee.Geometry.Point([1.5, 1.5])\n",
        "\n",
        "lineString = ee.Geometry.LineString([[-35, -10], [35, -10], [35, 10], [-35, 10]])\n",
        "\n",
        "linearRing = ee.Geometry.LinearRing(\n",
        "    [[-35, -10], [35, -10], [35, 10], [-35, 10], [-35, -10]]\n",
        ")\n",
        "\n",
        "rectangle = ee.Geometry.Rectangle([-40, -20, 40, 20])\n",
        "\n",
        "polygon = ee.Geometry.Polygon([[[-5, 40], [65, 40], [65, 60], [-5, 60], [-5, 60]]])\n",
        "\n",
        "Map.addLayer(point, {}, 'Point')\n",
        "Map.addLayer(lineString, {}, 'LineString')\n",
        "Map.addLayer(linearRing, {}, 'LinearRing')\n",
        "Map.addLayer(rectangle, {}, 'Rectangle')\n",
        "Map.addLayer(polygon, {}, 'Polygon')\n",
        "Map"
      ],
      "id": "mYKM3LQI2H5u"
    },
    {
      "cell_type": "code",
      "execution_count": null,
      "metadata": {
        "id": "2mok73cd2H5u"
      },
      "outputs": [],
      "source": [
        "Map = geemap.Map()\n",
        "\n",
        "point = ee.Geometry.Point([1.5, 1.5])\n",
        "\n",
        "lineString = ee.Geometry.LineString(\n",
        "    [[-35, -10], [35, -10], [35, 10], [-35, 10]], None, False\n",
        ")\n",
        "\n",
        "linearRing = ee.Geometry.LinearRing(\n",
        "    [[-35, -10], [35, -10], [35, 10], [-35, 10], [-35, -10]], None, False\n",
        ")\n",
        "\n",
        "rectangle = ee.Geometry.Rectangle([-40, -20, 40, 20], None, False)\n",
        "\n",
        "polygon = ee.Geometry.Polygon(\n",
        "    [[[-5, 40], [65, 40], [65, 60], [-5, 60], [-5, 60]]], None, False\n",
        ")\n",
        "\n",
        "Map.addLayer(point, {}, 'Point')\n",
        "Map.addLayer(lineString, {}, 'LineString')\n",
        "Map.addLayer(linearRing, {}, 'LinearRing')\n",
        "Map.addLayer(rectangle, {}, 'Rectangle')\n",
        "Map.addLayer(polygon, {}, 'Polygon')\n",
        "Map"
      ],
      "id": "2mok73cd2H5u"
    },
    {
      "cell_type": "markdown",
      "metadata": {
        "id": "CnD84qXy2H5u"
      },
      "source": [
        "#### Using drawing tools"
      ],
      "id": "CnD84qXy2H5u"
    },
    {
      "cell_type": "code",
      "execution_count": null,
      "metadata": {
        "id": "3HKJo8nq2H5u"
      },
      "outputs": [],
      "source": [
        "if Map.user_roi is not None:\n",
        "    print(Map.user_roi.getInfo())"
      ],
      "id": "3HKJo8nq2H5u"
    },
    {
      "cell_type": "code",
      "execution_count": null,
      "metadata": {
        "id": "amPBxO632H5u"
      },
      "outputs": [],
      "source": [
        "if Map.user_roi is not None:\n",
        "    print(Map.user_roi)"
      ],
      "id": "amPBxO632H5u"
    },
    {
      "cell_type": "markdown",
      "metadata": {
        "id": "qzIvNPyt2H5u"
      },
      "source": [
        "### Feature\n",
        "\n",
        "#### Creating Feature objects"
      ],
      "id": "qzIvNPyt2H5u"
    },
    {
      "cell_type": "code",
      "execution_count": null,
      "metadata": {
        "id": "8odEtd1d2H5u"
      },
      "outputs": [],
      "source": [
        "polygon = ee.Geometry.Polygon(\n",
        "    [[[-35, -10], [35, -10], [35, 10], [-35, 10], [-35, -10]]], None, False\n",
        ")\n",
        "polyFeature = ee.Feature(polygon, {'foo': 42, 'bar': 'tart'})"
      ],
      "id": "8odEtd1d2H5u"
    },
    {
      "cell_type": "code",
      "execution_count": null,
      "metadata": {
        "id": "HFD3BJvW2H5v"
      },
      "outputs": [],
      "source": [
        "polyFeature"
      ],
      "id": "HFD3BJvW2H5v"
    },
    {
      "cell_type": "code",
      "execution_count": null,
      "metadata": {
        "id": "5dT5pemX2H5v"
      },
      "outputs": [],
      "source": [
        "Map = geemap.Map()\n",
        "Map.addLayer(polyFeature, {}, 'feature')\n",
        "Map"
      ],
      "id": "5dT5pemX2H5v"
    },
    {
      "cell_type": "code",
      "execution_count": null,
      "metadata": {
        "id": "g5rPrd_v2H5v"
      },
      "outputs": [],
      "source": [
        "props = {'foo': ee.Number(8).add(88), 'bar': 'hello'}\n",
        "nowhereFeature = ee.Feature(None, props)\n",
        "nowhereFeature"
      ],
      "id": "g5rPrd_v2H5v"
    },
    {
      "cell_type": "markdown",
      "metadata": {
        "id": "EsA7_Xky2H5v"
      },
      "source": [
        "#### Setting Feature properties"
      ],
      "id": "EsA7_Xky2H5v"
    },
    {
      "cell_type": "code",
      "execution_count": null,
      "metadata": {
        "id": "7eEJ8fEQ2H5w"
      },
      "outputs": [],
      "source": [
        "feature = (\n",
        "    ee.Feature(ee.Geometry.Point([-122.22599, 37.17605]))\n",
        "    .set('genus', 'Sequoia')\n",
        "    .set('species', 'sempervirens')\n",
        ")\n",
        "newDict = {'genus': 'Brachyramphus', 'presence': 1, 'species': 'marmoratus'}\n",
        "feature = feature.set(newDict)\n",
        "feature"
      ],
      "id": "7eEJ8fEQ2H5w"
    },
    {
      "cell_type": "markdown",
      "metadata": {
        "id": "7sNEP6z42H5w"
      },
      "source": [
        "#### Getting Feature properties"
      ],
      "id": "7sNEP6z42H5w"
    },
    {
      "cell_type": "code",
      "execution_count": null,
      "metadata": {
        "id": "d7uMxaA92H5w"
      },
      "outputs": [],
      "source": [
        "prop = feature.get('species')\n",
        "prop"
      ],
      "id": "d7uMxaA92H5w"
    },
    {
      "cell_type": "code",
      "execution_count": null,
      "metadata": {
        "id": "0hVbo43Z2H5w"
      },
      "outputs": [],
      "source": [
        "props = feature.toDictionary()\n",
        "props"
      ],
      "id": "0hVbo43Z2H5w"
    },
    {
      "cell_type": "markdown",
      "metadata": {
        "id": "AYkM2zE12H5w"
      },
      "source": [
        "### FeatureCollection\n",
        "\n",
        "#### Loading feature collections"
      ],
      "id": "AYkM2zE12H5w"
    },
    {
      "cell_type": "code",
      "execution_count": null,
      "metadata": {
        "id": "PzgFCXXX2H5x"
      },
      "outputs": [],
      "source": [
        "Map = geemap.Map()\n",
        "fc = ee.FeatureCollection('TIGER/2016/Roads')\n",
        "Map.setCenter(-73.9596, 40.7688, 12)\n",
        "Map.addLayer(fc, {}, 'Census roads')\n",
        "Map"
      ],
      "id": "PzgFCXXX2H5x"
    },
    {
      "cell_type": "code",
      "execution_count": null,
      "metadata": {
        "id": "y7Ac1-HN2H5x"
      },
      "outputs": [],
      "source": [
        "fc.limit(3)"
      ],
      "id": "y7Ac1-HN2H5x"
    },
    {
      "cell_type": "markdown",
      "metadata": {
        "id": "-pD3-1kz2H5x"
      },
      "source": [
        "#### Creating feature collections"
      ],
      "id": "-pD3-1kz2H5x"
    },
    {
      "cell_type": "code",
      "execution_count": null,
      "metadata": {
        "id": "LcoEyZ9u2H5x"
      },
      "outputs": [],
      "source": [
        "features = [\n",
        "    ee.Feature(ee.Geometry.Rectangle(30.01, 59.80, 30.59, 60.15), {'name': 'Voronoi'}),\n",
        "    ee.Feature(ee.Geometry.Point(-73.96, 40.781), {'name': 'Thiessen'}),\n",
        "    ee.Feature(ee.Geometry.Point(6.4806, 50.8012), {'name': 'Dirichlet'}),\n",
        "]\n",
        "fromList = ee.FeatureCollection(features)"
      ],
      "id": "LcoEyZ9u2H5x"
    },
    {
      "cell_type": "markdown",
      "metadata": {
        "id": "3PcSDdSP2H5y"
      },
      "source": [
        "#### Filtering feature collections"
      ],
      "id": "3PcSDdSP2H5y"
    },
    {
      "cell_type": "code",
      "execution_count": null,
      "metadata": {
        "id": "I4fWFkXz2H5y"
      },
      "outputs": [],
      "source": [
        "Map = geemap.Map()\n",
        "states = ee.FeatureCollection('TIGER/2018/States')\n",
        "feat = states.filter(ee.Filter.eq('NAME', 'Texas'))\n",
        "Map.addLayer(feat, {}, 'Texas')\n",
        "Map.centerObject(feat)\n",
        "Map"
      ],
      "id": "I4fWFkXz2H5y"
    },
    {
      "cell_type": "code",
      "execution_count": null,
      "metadata": {
        "id": "w9w7iN072H5y"
      },
      "outputs": [],
      "source": [
        "texas = feat.first()\n",
        "texas.toDictionary()"
      ],
      "id": "w9w7iN072H5y"
    },
    {
      "cell_type": "code",
      "execution_count": null,
      "metadata": {
        "id": "9suv1N5c2H5y"
      },
      "outputs": [],
      "source": [
        "Map = geemap.Map()\n",
        "states = ee.FeatureCollection('TIGER/2018/States')\n",
        "fc = states.filter(ee.Filter.inList('NAME', ['California', 'Oregon', 'Washington']))\n",
        "Map.addLayer(fc, {}, 'West Coast')\n",
        "Map.centerObject(fc)\n",
        "Map"
      ],
      "id": "9suv1N5c2H5y"
    },
    {
      "cell_type": "code",
      "execution_count": null,
      "metadata": {
        "id": "tUukI2KK2H5y"
      },
      "outputs": [],
      "source": [
        "region = Map.user_roi\n",
        "if region is None:\n",
        "    region = ee.Geometry.BBox(-88.40, 29.88, -77.90, 35.39)\n",
        "\n",
        "fc = ee.FeatureCollection('TIGER/2018/States').filterBounds(region)\n",
        "Map.addLayer(fc, {}, 'Southeastern U.S.')\n",
        "Map.centerObject(fc)"
      ],
      "id": "tUukI2KK2H5y"
    },
    {
      "cell_type": "markdown",
      "metadata": {
        "id": "Y5Gm-Jl02H5y"
      },
      "source": [
        "#### Visualizing feature collections"
      ],
      "id": "Y5Gm-Jl02H5y"
    },
    {
      "cell_type": "code",
      "execution_count": null,
      "metadata": {
        "id": "0ZGMHRnW2H5y"
      },
      "outputs": [],
      "source": [
        "Map = geemap.Map(center=[40, -100], zoom=4)\n",
        "states = ee.FeatureCollection(\"TIGER/2018/States\")\n",
        "Map.addLayer(states, {}, \"US States\")\n",
        "Map"
      ],
      "id": "0ZGMHRnW2H5y"
    },
    {
      "cell_type": "code",
      "execution_count": null,
      "metadata": {
        "id": "zm1ekalr2H5z"
      },
      "outputs": [],
      "source": [
        "Map = geemap.Map(center=[40, -100], zoom=4)\n",
        "states = ee.FeatureCollection(\"TIGER/2018/States\")\n",
        "image = ee.Image().paint(states, 0, 3)\n",
        "Map.addLayer(image, {'palette': 'red'}, \"US States\")\n",
        "Map"
      ],
      "id": "zm1ekalr2H5z"
    },
    {
      "cell_type": "code",
      "execution_count": null,
      "metadata": {
        "id": "0AJO2QpL2H5z"
      },
      "outputs": [],
      "source": [
        "Map = geemap.Map(center=[40, -100], zoom=4)\n",
        "states = ee.FeatureCollection(\"TIGER/2018/States\")\n",
        "style = {'color': '0000ffff', 'width': 2, 'lineType': 'solid', 'fillColor': 'FF000080'}\n",
        "Map.addLayer(states.style(**style), {}, \"US States\")\n",
        "Map"
      ],
      "id": "0AJO2QpL2H5z"
    },
    {
      "cell_type": "code",
      "execution_count": null,
      "metadata": {
        "id": "bI_8X77D2H5z"
      },
      "outputs": [],
      "source": [
        "Map = geemap.Map(center=[40, -100], zoom=4)\n",
        "states = ee.FeatureCollection(\"TIGER/2018/States\")\n",
        "vis_params = {\n",
        "    'color': '000000',\n",
        "    'colorOpacity': 1,\n",
        "    'pointSize': 3,\n",
        "    'pointShape': 'circle',\n",
        "    'width': 2,\n",
        "    'lineType': 'solid',\n",
        "    'fillColorOpacity': 0.66,\n",
        "}\n",
        "palette = ['006633', 'E5FFCC', '662A00', 'D8D8D8', 'F5F5F5']\n",
        "Map.add_styled_vector(\n",
        "    states, column=\"NAME\", palette=palette, layer_name=\"Styled vector\", **vis_params\n",
        ")\n",
        "Map"
      ],
      "id": "bI_8X77D2H5z"
    },
    {
      "cell_type": "markdown",
      "metadata": {
        "id": "S-8B0Son2H5z"
      },
      "source": [
        "#### Styling by attribute"
      ],
      "id": "S-8B0Son2H5z"
    },
    {
      "cell_type": "code",
      "execution_count": null,
      "metadata": {
        "id": "IHuRJ2wo2H5z"
      },
      "outputs": [],
      "source": [
        "Map = geemap.Map(center=[28.00142, -81.7424], zoom=13)\n",
        "Map.add_basemap('HYBRID')"
      ],
      "id": "IHuRJ2wo2H5z"
    },
    {
      "cell_type": "code",
      "execution_count": null,
      "metadata": {
        "id": "n4CBcC932H5z"
      },
      "outputs": [],
      "source": [
        "types = [\n",
        "    \"Freshwater Forested/Shrub Wetland\",\n",
        "    \"Freshwater Emergent Wetland\",\n",
        "    \"Freshwater Pond\",\n",
        "    \"Estuarine and Marine Wetland\",\n",
        "    \"Riverine\",\n",
        "    \"Lake\",\n",
        "    \"Estuarine and Marine Deepwater\",\n",
        "    \"Other\",\n",
        "]\n",
        "\n",
        "colors = [\n",
        "    \"#008837\",\n",
        "    \"#7FC31C\",\n",
        "    \"#688CC0\",\n",
        "    \"#66C2A5\",\n",
        "    \"#0190BF\",\n",
        "    \"#13007C\",\n",
        "    \"#007C88\",\n",
        "    \"#B28653\",\n",
        "]\n",
        "\n",
        "fillColor = [c + \"A8\" for c in colors]"
      ],
      "id": "n4CBcC932H5z"
    },
    {
      "cell_type": "code",
      "execution_count": null,
      "metadata": {
        "id": "JlJUpprP2H5z"
      },
      "outputs": [],
      "source": [
        "fc = ee.FeatureCollection(\"projects/sat-io/open-datasets/NWI/wetlands/FL_Wetlands\")\n",
        "styled_fc = geemap.ee_vector_style(\n",
        "    fc, column='WETLAND_TY', labels=types, fillColor=fillColor, color='00000000'\n",
        ")"
      ],
      "id": "JlJUpprP2H5z"
    },
    {
      "cell_type": "code",
      "execution_count": null,
      "metadata": {
        "id": "qo0_Nf6Y2H50"
      },
      "outputs": [],
      "source": [
        "Map.addLayer(styled_fc, {}, 'NWI')\n",
        "Map.add_legend(title='Wetland Type', labels=types, colors=colors)\n",
        "Map"
      ],
      "id": "qo0_Nf6Y2H50"
    },
    {
      "cell_type": "code",
      "execution_count": null,
      "metadata": {
        "id": "SxmL1VmU2H50"
      },
      "outputs": [],
      "source": [
        "fuels = [\n",
        "    'Coal',\n",
        "    'Oil',\n",
        "    'Gas',\n",
        "    'Hydro',\n",
        "    'Nuclear',\n",
        "    'Solar',\n",
        "    'Waste',\n",
        "    'Wind',\n",
        "    'Geothermal',\n",
        "    'Biomass',\n",
        "]\n",
        "colors = [\n",
        "    '000000',\n",
        "    '593704',\n",
        "    'BC80BD',\n",
        "    '0565A6',\n",
        "    'E31A1C',\n",
        "    'FF7F00',\n",
        "    '6A3D9A',\n",
        "    '5CA2D1',\n",
        "    'FDBF6F',\n",
        "    '229A00',\n",
        "]"
      ],
      "id": "SxmL1VmU2H50"
    },
    {
      "cell_type": "code",
      "execution_count": null,
      "metadata": {
        "id": "KSqCWBYk2H50"
      },
      "outputs": [],
      "source": [
        "fc = ee.FeatureCollection(\"WRI/GPPD/power_plants\").filter(\n",
        "    ee.Filter.inList('fuel1', fuels)\n",
        ")\n",
        "styled_fc = geemap.ee_vector_style(fc, column=\"fuel1\", labels=fuels, color=colors)"
      ],
      "id": "KSqCWBYk2H50"
    },
    {
      "cell_type": "code",
      "execution_count": null,
      "metadata": {
        "id": "ldgHiwuQ2H50"
      },
      "outputs": [],
      "source": [
        "Map = geemap.Map(center=[40, -100], zoom=4)\n",
        "Map.addLayer(styled_fc, {}, 'Power Plants')\n",
        "Map.add_legend(title=\"Power Plant Fuel Type\", labels=fuels, colors=colors)\n",
        "Map"
      ],
      "id": "ldgHiwuQ2H50"
    },
    {
      "cell_type": "code",
      "execution_count": null,
      "metadata": {
        "id": "lKAqOSF12H50"
      },
      "outputs": [],
      "source": [
        "types = ['I', 'U', 'S', 'M', 'C', 'O']\n",
        "labels = ['Interstate', 'U.S.', 'State recognized', 'Common Name', 'County', 'Other']\n",
        "colors = ['E31A1C', 'FF7F00', '6A3D9A', '000000', 'FDBF6F', '229A00']\n",
        "width = [8, 5, 4, 2, 1, 1]"
      ],
      "id": "lKAqOSF12H50"
    },
    {
      "cell_type": "code",
      "execution_count": null,
      "metadata": {
        "id": "CTRc4o3U2H50"
      },
      "outputs": [],
      "source": [
        "fc = ee.FeatureCollection('TIGER/2016/Roads')\n",
        "styled_fc = geemap.ee_vector_style(\n",
        "    fc, column='rttyp', labels=types, color=colors, width=width\n",
        ")"
      ],
      "id": "CTRc4o3U2H50"
    },
    {
      "cell_type": "code",
      "execution_count": null,
      "metadata": {
        "id": "Q1jw2CgU2H50"
      },
      "outputs": [],
      "source": [
        "Map = geemap.Map(center=[40.7424, -73.9724], zoom=13)\n",
        "Map.addLayer(styled_fc, {}, 'Census Roads')\n",
        "Map.add_legend(title='Route Type', labels=labels, colors=colors)\n",
        "Map"
      ],
      "id": "Q1jw2CgU2H50"
    },
    {
      "cell_type": "markdown",
      "metadata": {
        "id": "iy_s6aBV2H50"
      },
      "source": [
        "## Earth Engine Data Catalog\n",
        "\n",
        "### Searching for datasets"
      ],
      "id": "iy_s6aBV2H50"
    },
    {
      "cell_type": "code",
      "execution_count": null,
      "metadata": {
        "id": "-rdwm10N2H50"
      },
      "outputs": [],
      "source": [
        "dataset_xyz = ee.Image('USGS/SRTMGL1_003')\n",
        "Map.addLayer(dataset_xyz, {}, \"USGS/SRTMGL1_003\")"
      ],
      "id": "-rdwm10N2H50"
    },
    {
      "cell_type": "code",
      "execution_count": null,
      "metadata": {
        "id": "xhWAzpfE2H51"
      },
      "outputs": [],
      "source": [
        "Map = geemap.Map()\n",
        "dem = ee.Image('USGS/SRTMGL1_003')\n",
        "vis_params = {\n",
        "    'min': 0,\n",
        "    'max': 4000,\n",
        "    'palette': ['006633', 'E5FFCC', '662A00', 'D8D8D8', 'F5F5F5'],\n",
        "}\n",
        "Map.addLayer(dem, vis_params, 'SRTM DEM')\n",
        "Map"
      ],
      "id": "xhWAzpfE2H51"
    },
    {
      "cell_type": "markdown",
      "metadata": {
        "id": "S-iGEZLP2H51"
      },
      "source": [
        "### Using the datasets module"
      ],
      "id": "S-iGEZLP2H51"
    },
    {
      "cell_type": "code",
      "execution_count": null,
      "metadata": {
        "id": "l4aQojES2H51"
      },
      "outputs": [],
      "source": [
        "from geemap.datasets import DATA"
      ],
      "id": "l4aQojES2H51"
    },
    {
      "cell_type": "code",
      "execution_count": null,
      "metadata": {
        "id": "JuFZzPFm2H51"
      },
      "outputs": [],
      "source": [
        "Map = geemap.Map(center=[40, -100], zoom=4)\n",
        "dataset = ee.Image(DATA.USGS_GAP_CONUS_2011)\n",
        "Map.addLayer(dataset, {}, 'GAP CONUS')\n",
        "Map"
      ],
      "id": "JuFZzPFm2H51"
    },
    {
      "cell_type": "code",
      "execution_count": null,
      "metadata": {
        "id": "P9b5HU6i2H51"
      },
      "outputs": [],
      "source": [
        "from geemap.datasets import get_metadata\n",
        "\n",
        "get_metadata(DATA.USGS_GAP_CONUS_2011)"
      ],
      "id": "P9b5HU6i2H51"
    },
    {
      "cell_type": "markdown",
      "metadata": {
        "id": "K9p-5bkh2H51"
      },
      "source": [
        "## Getting image metadata"
      ],
      "id": "K9p-5bkh2H51"
    },
    {
      "cell_type": "code",
      "execution_count": null,
      "metadata": {
        "id": "bq5TN1tL2H51"
      },
      "outputs": [],
      "source": [
        "image = ee.Image('LANDSAT/LC09/C02/T1_L2/LC09_044034_20220503')"
      ],
      "id": "bq5TN1tL2H51"
    },
    {
      "cell_type": "code",
      "execution_count": null,
      "metadata": {
        "id": "Jo6C2WY62H51"
      },
      "outputs": [],
      "source": [
        "image.bandNames()"
      ],
      "id": "Jo6C2WY62H51"
    },
    {
      "cell_type": "code",
      "execution_count": null,
      "metadata": {
        "id": "WmKGM83H2H52"
      },
      "outputs": [],
      "source": [
        "image.select('SR_B1').projection()"
      ],
      "id": "WmKGM83H2H52"
    },
    {
      "cell_type": "code",
      "execution_count": null,
      "metadata": {
        "id": "waGAIwj02H52"
      },
      "outputs": [],
      "source": [
        "image.select('SR_B1').projection().nominalScale()"
      ],
      "id": "waGAIwj02H52"
    },
    {
      "cell_type": "code",
      "execution_count": null,
      "metadata": {
        "id": "lV_N4pgY2H52"
      },
      "outputs": [],
      "source": [
        "image.propertyNames()"
      ],
      "id": "lV_N4pgY2H52"
    },
    {
      "cell_type": "code",
      "execution_count": null,
      "metadata": {
        "id": "KUK80dg12H52"
      },
      "outputs": [],
      "source": [
        "image.get('CLOUD_COVER')"
      ],
      "id": "KUK80dg12H52"
    },
    {
      "cell_type": "code",
      "execution_count": null,
      "metadata": {
        "id": "6gDs4Qut2H52"
      },
      "outputs": [],
      "source": [
        "image.get('DATE_ACQUIRED')"
      ],
      "id": "6gDs4Qut2H52"
    },
    {
      "cell_type": "code",
      "execution_count": null,
      "metadata": {
        "id": "zQwch8Qx2H52"
      },
      "outputs": [],
      "source": [
        "image.get('system:time_start')"
      ],
      "id": "zQwch8Qx2H52"
    },
    {
      "cell_type": "code",
      "execution_count": null,
      "metadata": {
        "id": "q3cCU1Va2H52"
      },
      "outputs": [],
      "source": [
        "date = ee.Date(image.get('system:time_start'))\n",
        "date.format('YYYY-MM-dd')"
      ],
      "id": "q3cCU1Va2H52"
    },
    {
      "cell_type": "code",
      "execution_count": null,
      "metadata": {
        "id": "q8Hfiu472H52"
      },
      "outputs": [],
      "source": [
        "image.toDictionary()"
      ],
      "id": "q8Hfiu472H52"
    },
    {
      "cell_type": "code",
      "execution_count": null,
      "metadata": {
        "id": "HBg07zMe2H52"
      },
      "outputs": [],
      "source": [
        "props = geemap.image_props(image)\n",
        "props"
      ],
      "id": "HBg07zMe2H52"
    },
    {
      "cell_type": "markdown",
      "metadata": {
        "id": "HgfQ8v_j2H53"
      },
      "source": [
        "## Calculating descriptive statistics"
      ],
      "id": "HgfQ8v_j2H53"
    },
    {
      "cell_type": "code",
      "execution_count": null,
      "metadata": {
        "id": "xce52GOz2H53"
      },
      "outputs": [],
      "source": [
        "image = ee.Image('LANDSAT/LC09/C02/T1_L2/LC09_044034_20220503')\n",
        "geemap.image_min_value(image)"
      ],
      "id": "xce52GOz2H53"
    },
    {
      "cell_type": "code",
      "execution_count": null,
      "metadata": {
        "id": "91l851UE2H53"
      },
      "outputs": [],
      "source": [
        "geemap.image_max_value(image)"
      ],
      "id": "91l851UE2H53"
    },
    {
      "cell_type": "code",
      "execution_count": null,
      "metadata": {
        "id": "cITxydXh2H53"
      },
      "outputs": [],
      "source": [
        "geemap.image_mean_value(image)"
      ],
      "id": "cITxydXh2H53"
    },
    {
      "cell_type": "code",
      "execution_count": null,
      "metadata": {
        "id": "rFqqnlEy2H53"
      },
      "outputs": [],
      "source": [
        "geemap.image_stats(image)"
      ],
      "id": "rFqqnlEy2H53"
    },
    {
      "cell_type": "markdown",
      "metadata": {
        "id": "ibtcFtId2H53"
      },
      "source": [
        "## Using the inspector tool"
      ],
      "id": "ibtcFtId2H53"
    },
    {
      "cell_type": "code",
      "execution_count": null,
      "metadata": {
        "id": "VBQeEO6g2H53"
      },
      "outputs": [],
      "source": [
        "Map = geemap.Map(center=(40, -100), zoom=4)\n",
        "dem = ee.Image('USGS/SRTMGL1_003')\n",
        "landsat7 = ee.Image('LANDSAT/LE7_TOA_5YEAR/1999_2003').select(\n",
        "    ['B1', 'B2', 'B3', 'B4', 'B5', 'B7']\n",
        ")\n",
        "states = ee.FeatureCollection(\"TIGER/2018/States\")\n",
        "vis_params = {\n",
        "    'min': 0,\n",
        "    'max': 4000,\n",
        "    'palette': ['006633', 'E5FFCC', '662A00', 'D8D8D8', 'F5F5F5'],\n",
        "}\n",
        "Map.addLayer(dem, vis_params, 'SRTM DEM')\n",
        "Map.addLayer(\n",
        "    landsat7,\n",
        "    {'bands': ['B4', 'B3', 'B2'], 'min': 20, 'max': 200, 'gamma': 2.0},\n",
        "    'Landsat 7',\n",
        ")\n",
        "Map.addLayer(states, {}, \"US States\")\n",
        "Map"
      ],
      "id": "VBQeEO6g2H53"
    },
    {
      "cell_type": "markdown",
      "metadata": {
        "id": "H8AE299B2H53"
      },
      "source": [
        "## Converting JavaScript to Python\n",
        "\n",
        "### Interactive conversion"
      ],
      "id": "H8AE299B2H53"
    },
    {
      "cell_type": "code",
      "execution_count": null,
      "metadata": {
        "id": "D1tR5BCt2H53"
      },
      "outputs": [],
      "source": [
        "Map = geemap.Map()\n",
        "Map"
      ],
      "id": "D1tR5BCt2H53"
    },
    {
      "cell_type": "code",
      "execution_count": null,
      "metadata": {
        "id": "H-OH4orZ2H54"
      },
      "outputs": [],
      "source": [
        "# Load an image.\n",
        "image = ee.Image('LANDSAT/LC08/C02/T1_TOA/LC08_044034_20140318')\n",
        "\n",
        "# Define the visualization parameters.\n",
        "vizParams = {'bands': ['B5', 'B4', 'B3'], 'min': 0, 'max': 0.5, 'gamma': [0.95, 1.1, 1]}\n",
        "\n",
        "# Center the map and display the image.\n",
        "Map.setCenter(-122.1899, 37.5010, 10)\n",
        "# San Francisco Bay\n",
        "Map.addLayer(image, vizParams, 'False color composite')"
      ],
      "id": "H-OH4orZ2H54"
    },
    {
      "cell_type": "markdown",
      "metadata": {
        "id": "2mkrbxI02H54"
      },
      "source": [
        "### Batch conversion"
      ],
      "id": "2mkrbxI02H54"
    },
    {
      "cell_type": "code",
      "execution_count": null,
      "metadata": {
        "id": "8LcIH_Yf2H54"
      },
      "outputs": [],
      "source": [
        "snippet = \"\"\"\n",
        "// Load an image.\n",
        "var image = ee.Image('LANDSAT/LC08/C02/T1_TOA/LC08_044034_20140318');\n",
        "\n",
        "// Create an NDWI image, define visualization parameters and display.\n",
        "var ndwi = image.normalizedDifference(['B3', 'B5']);\n",
        "var ndwiViz = {min: 0.5, max: 1, palette: ['00FFFF', '0000FF']};\n",
        "Map.addLayer(ndwi, ndwiViz, 'NDWI');\n",
        "Map.centerObject(image)\n",
        "\"\"\"\n",
        "\n",
        "geemap.js_snippet_to_py(snippet, add_new_cell=True, import_ee=False)"
      ],
      "id": "8LcIH_Yf2H54"
    },
    {
      "cell_type": "code",
      "execution_count": null,
      "metadata": {
        "id": "6beGzyN52H54"
      },
      "outputs": [],
      "source": [
        "# Load an image.\n",
        "image = ee.Image('LANDSAT/LC08/C02/T1_TOA/LC08_044034_20140318')\n",
        "\n",
        "# Create an NDWI image, define visualization parameters and display.\n",
        "ndwi = image.normalizedDifference(['B3', 'B5'])\n",
        "ndwiViz = {'min': 0.5, 'max': 1, 'palette': ['00FFFF', '0000FF']}\n",
        "Map.addLayer(ndwi, ndwiViz, 'NDWI')\n",
        "Map.centerObject(image)\n",
        "Map"
      ],
      "id": "6beGzyN52H54"
    },
    {
      "cell_type": "code",
      "execution_count": null,
      "metadata": {
        "id": "ZkHETd3C2H54"
      },
      "outputs": [],
      "source": [
        "import os\n",
        "from geemap.conversion import *\n",
        "\n",
        "out_dir = os.getcwd()\n",
        "js_dir = get_js_examples(out_dir)\n",
        "js_to_python_dir(in_dir=js_dir, out_dir=out_dir, use_qgis=False)\n",
        "py_to_ipynb_dir(js_dir)"
      ],
      "id": "ZkHETd3C2H54"
    },
    {
      "cell_type": "markdown",
      "metadata": {
        "id": "QrB4qBGF2H54"
      },
      "source": [
        "## Calling JavaScript functions from Python"
      ],
      "id": "QrB4qBGF2H54"
    },
    {
      "cell_type": "code",
      "execution_count": null,
      "metadata": {
        "id": "eP914v5V2H54"
      },
      "outputs": [],
      "source": [
        "# %pip install oeel"
      ],
      "id": "eP914v5V2H54"
    },
    {
      "cell_type": "code",
      "execution_count": null,
      "metadata": {
        "id": "X9SzmR-k2H54"
      },
      "outputs": [],
      "source": [
        "import oeel"
      ],
      "id": "X9SzmR-k2H54"
    },
    {
      "cell_type": "code",
      "execution_count": null,
      "metadata": {
        "id": "YWDU_3sO2H54"
      },
      "outputs": [],
      "source": [
        "oeel = geemap.requireJS()"
      ],
      "id": "YWDU_3sO2H54"
    },
    {
      "cell_type": "code",
      "execution_count": null,
      "metadata": {
        "id": "nlj9rGeu2H55"
      },
      "outputs": [],
      "source": [
        "ic = ee.ImageCollection(\"COPERNICUS/S2_SR\")\n",
        "icSize = (\n",
        "    oeel.Algorithms.Sentinel2.cloudfree(maxCloud=20, S2Collection=ic)\n",
        "    .filterDate('2020-01-01', '2020-01-02')\n",
        "    .size()\n",
        ")\n",
        "print('Cloud free imagery: ', icSize.getInfo())"
      ],
      "id": "nlj9rGeu2H55"
    },
    {
      "cell_type": "code",
      "execution_count": null,
      "metadata": {
        "id": "12xUw89S2H55"
      },
      "outputs": [],
      "source": [
        "url = 'https://tinyurl.com/27xy4oh9'\n",
        "lib = geemap.requireJS(lib_path=url)"
      ],
      "id": "12xUw89S2H55"
    },
    {
      "cell_type": "code",
      "execution_count": null,
      "metadata": {
        "id": "Lt-5ktq92H55"
      },
      "outputs": [],
      "source": [
        "lib.availability"
      ],
      "id": "Lt-5ktq92H55"
    },
    {
      "cell_type": "code",
      "execution_count": null,
      "metadata": {
        "id": "Ok1f1XRn2H55"
      },
      "outputs": [],
      "source": [
        "grid = lib.generateGrid(-180, -70, 180, 70, 10, 10, 0, 0)\n",
        "grid.first()"
      ],
      "id": "Ok1f1XRn2H55"
    },
    {
      "cell_type": "code",
      "execution_count": null,
      "metadata": {
        "id": "qJoqpXR32H55"
      },
      "outputs": [],
      "source": [
        "Map = geemap.Map()\n",
        "style = {'fillColor': '00000000'}\n",
        "Map.addLayer(grid.style(**style), {}, 'Grid')\n",
        "Map"
      ],
      "id": "qJoqpXR32H55"
    },
    {
      "cell_type": "code",
      "execution_count": null,
      "metadata": {
        "id": "tRAn77642H55"
      },
      "outputs": [],
      "source": [
        "Map = geemap.Map()\n",
        "lib = geemap.requireJS(lib_path='grid.js', Map=Map)"
      ],
      "id": "tRAn77642H55"
    },
    {
      "cell_type": "code",
      "execution_count": null,
      "metadata": {
        "id": "HD3b5UZf2H55"
      },
      "outputs": [],
      "source": [
        "grid = lib.generateGrid(-180, -70, 180, 70, 10, 10, 0, 0)\n",
        "grid.first()"
      ],
      "id": "HD3b5UZf2H55"
    },
    {
      "cell_type": "code",
      "execution_count": null,
      "metadata": {
        "id": "Oiqe_oqv2H55"
      },
      "outputs": [],
      "source": [
        "lib.grid_test()\n",
        "Map"
      ],
      "id": "Oiqe_oqv2H55"
    },
    {
      "cell_type": "code",
      "execution_count": null,
      "metadata": {
        "id": "HHDUeqRV2H56"
      },
      "outputs": [],
      "source": [
        "lib = geemap.requireJS('users/gena/packages:grid')"
      ],
      "id": "HHDUeqRV2H56"
    },
    {
      "cell_type": "code",
      "execution_count": null,
      "metadata": {
        "id": "FnIqjQy82H56"
      },
      "outputs": [],
      "source": [
        "grid = lib.generateGrid(-180, -70, 180, 70, 10, 10, 0, 0)"
      ],
      "id": "FnIqjQy82H56"
    },
    {
      "cell_type": "code",
      "execution_count": null,
      "metadata": {
        "id": "8jAvMpRa2H56"
      },
      "outputs": [],
      "source": [
        "Map = geemap.Map()\n",
        "style = {'fillColor': '00000000'}\n",
        "Map.addLayer(grid.style(**style), {}, 'Grid')\n",
        "Map"
      ],
      "id": "8jAvMpRa2H56"
    },
    {
      "cell_type": "markdown",
      "metadata": {
        "id": "uY-ylvoL2H56"
      },
      "source": [
        "## Summary"
      ],
      "id": "uY-ylvoL2H56"
    }
  ],
  "metadata": {
    "kernelspec": {
      "display_name": "Python 3",
      "language": "python",
      "name": "python3"
    },
    "colab": {
      "provenance": [],
      "toc_visible": true
    }
  },
  "nbformat": 4,
  "nbformat_minor": 5
}